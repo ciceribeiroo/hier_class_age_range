{
 "cells": [
  {
   "cell_type": "code",
   "execution_count": 2,
   "metadata": {},
   "outputs": [
    {
     "name": "stderr",
     "output_type": "stream",
     "text": [
      "[nltk_data] Downloading package stopwords to\n",
      "[nltk_data]     C:\\Users\\alici\\AppData\\Roaming\\nltk_data...\n",
      "[nltk_data]   Package stopwords is already up-to-date!\n"
     ]
    }
   ],
   "source": [
    "import pandas as pd\n",
    "from sklearn.feature_extraction.text import TfidfVectorizer\n",
    "from imblearn.over_sampling import SMOTE\n",
    "from sklearn.linear_model import LogisticRegression\n",
    "from sklearn import metrics\n",
    "import nltk\n",
    "import numpy as np\n",
    "import json\n",
    "from sklearn.model_selection import GridSearchCV\n",
    "nltk.download('stopwords')\n",
    "stopwords = nltk.corpus.stopwords.words('portuguese')\n"
   ]
  },
  {
   "cell_type": "code",
   "execution_count": 3,
   "metadata": {},
   "outputs": [],
   "source": [
    "def remove_stopwords(text):\n",
    "    all_words = text.split(\" \")\n",
    "    clean_text = [i for i in all_words if i not in stopwords and i!=\"\"]\n",
    "    return \" \".join(clean_text)"
   ]
  },
  {
   "cell_type": "code",
   "execution_count": 4,
   "metadata": {},
   "outputs": [],
   "source": [
    "def remove_html_tags(text):\n",
    "    import re\n",
    "    clean = re.compile('<.*?>')\n",
    "    return re.sub(clean, '', text)"
   ]
  },
  {
   "cell_type": "code",
   "execution_count": 5,
   "metadata": {},
   "outputs": [],
   "source": [
    "def lower_texts(text):\n",
    "    return text.lower()"
   ]
  },
  {
   "cell_type": "code",
   "execution_count": 6,
   "metadata": {},
   "outputs": [],
   "source": [
    "def clean_text(text):\n",
    "    clean_text = remove_stopwords(text)\n",
    "    clean_text = remove_html_tags(clean_text)\n",
    "    clean_text = lower_texts(clean_text)\n",
    "    return clean_text"
   ]
  },
  {
   "cell_type": "code",
   "execution_count": 7,
   "metadata": {},
   "outputs": [],
   "source": [
    "def formatTime(seg):\n",
    "    min = seg//60\n",
    "    seg = seg % 60\n",
    "    return str(min)+\"min\"+str(round(seg, 2))+\"s\""
   ]
  },
  {
   "cell_type": "code",
   "execution_count": 8,
   "metadata": {},
   "outputs": [],
   "source": [
    "with open(r'C:\\Users\\alici\\Documents\\tcc\\v3\\melhores_param\\brmoral\\gender.json', encoding='utf-8') as f:\n",
    "    gender_param = json.load(f)\n",
    "with open(r'C:\\Users\\alici\\Documents\\tcc\\v3\\melhores_param\\brmoral\\age.json', encoding='utf-8') as f:\n",
    "    age_param = json.load(f)\n",
    "with open(r'C:\\Users\\alici\\Documents\\tcc\\v3\\melhores_param\\brmoral\\age_fem.json', encoding='utf-8') as f:\n",
    "    age_fem_param = json.load(f)\n",
    "with open(r'C:\\Users\\alici\\Documents\\tcc\\v3\\melhores_param\\brmoral\\age_masc.json', encoding='utf-8') as f:\n",
    "    age_masc_param = json.load(f)"
   ]
  },
  {
   "cell_type": "code",
   "execution_count": 9,
   "metadata": {},
   "outputs": [
    {
     "name": "stdout",
     "output_type": "stream",
     "text": [
      "\n",
      "0.6211163017213379\n",
      "0.37952834586428236\n",
      "0.4285291070585188\n",
      "0.4525282730536186\n",
      "0.46874563466362734\n",
      "\n",
      "\n",
      "\n",
      "vetores\n",
      "[0.45391691903319814, 0.4368647824025398, 0.4223737638670319, 0.4047877145438121, 0.3671419929133177, 0.18095238095238095, 0.4351921470342523, 0.18095238095238095, 0.4644820258855346, 0.4486193510583754]\n",
      "[0.4910554561717353, 0.4555667902482867, 0.41111111111111104, 0.37423510466988724, 0.4989035087719298, 0.48657407407407405, 0.4457121825542878, 0.5423280423280423, 0.5936507936507937, 0.3883192830561251]\n"
     ]
    }
   ],
   "source": [
    "age = []\n",
    "age_fem = []\n",
    "age_masc = []\n",
    "age_sep = []\n",
    "gender = []\n",
    "\n",
    "for i in range(10):\n",
    "    df_train = pd.read_csv(r'C:\\Users\\alici\\Documents\\tcc\\v3\\particoes\\brmoral\\k_'+str(i+1)+r'\\train.csv')\n",
    "    df_test = pd.read_csv(r'C:\\Users\\alici\\Documents\\tcc\\v3\\particoes\\brmoral\\k_'+str(i+1)+r'\\test.csv')\n",
    "    \n",
    "    X_train = df_train['concat'].apply(clean_text).to_numpy()\n",
    "    X_test = df_test['concat'].apply(clean_text).to_numpy()\n",
    "    y_train_gender = df_train['GenderClass']\n",
    "    y_test_gender = df_test['GenderClass']\n",
    "\n",
    "    tfidfvec_gender = TfidfVectorizer(max_df=0.8)\n",
    "    tfidf_train_gender = tfidfvec_gender.fit_transform(X_train)\n",
    "    tfidf_test_gender = tfidfvec_gender.transform(X_test)\n",
    "\n",
    "    logisticRegr_gender = LogisticRegression(random_state=11, penalty='l2', C=5714.28, solver='lbfgs', multi_class='multinomial')\n",
    "    logisticRegr_gender.fit(tfidf_train_gender, y_train_gender)\n",
    "    pred_gender=logisticRegr_gender.predict(tfidf_test_gender)\n",
    "\n",
    "    f1 = metrics.f1_score(y_test_gender, pred_gender, average='macro')\n",
    "    gender.append(f1)\n",
    "    # print(f1)\n",
    "\n",
    "    y_train_age = df_train['AgeClass']\n",
    "    y_test_age = df_test['AgeClass']\n",
    "\n",
    "    tfidfvec_age = TfidfVectorizer(max_features = 1000, max_df=0.8)\n",
    "    tfidf_train_age = tfidfvec_age.fit_transform(X_train)\n",
    "    tfidf_test_age = tfidfvec_age.transform(X_test)\n",
    "\n",
    "    logisticRegr_age = LogisticRegression(random_state=11, penalty=age_param[\"k_\"+str(i+1)][\"params\"][\"penalty\"], C=age_param[\"k_\"+str(i+1)][\"params\"][\"C\"], solver='liblinear')\n",
    "    logisticRegr_age.fit(tfidf_train_age, y_train_age)\n",
    "    pred_age=logisticRegr_age.predict(tfidf_test_age)\n",
    "\n",
    "    f1 = metrics.f1_score(y_test_age, pred_age, average='macro')\n",
    "    age.append(f1)\n",
    "\n",
    "    df_test[\"PredictGender\"] = pred_gender\n",
    "\n",
    "    df_train_fem = df_train[df_train[\"GenderClass\"]==1]\n",
    "    df_train_masc = df_train[df_train[\"GenderClass\"]==0]\n",
    "\n",
    "    df_test_fem = df_test[df_test[\"PredictGender\"]==1]\n",
    "    df_test_masc = df_test[df_test[\"PredictGender\"]==0]\n",
    "\n",
    "    X_train_fem = df_train_fem['concat'].apply(clean_text).to_numpy()\n",
    "    X_test_fem = df_test_fem['concat'].apply(clean_text).to_numpy()\n",
    "    y_train_fem = df_train_fem['AgeClass']\n",
    "    y_test_fem = df_test_fem['AgeClass']\n",
    "\n",
    "    tfidfvec_fem = TfidfVectorizer(max_features = 1000, max_df=0.8)\n",
    "    tfidf_train_fem = tfidfvec_fem.fit_transform(X_train_fem)\n",
    "    tfidf_test_fem = tfidfvec_fem.transform(X_test_fem)\n",
    "\n",
    "    logisticRegr_fem = LogisticRegression(random_state=11, penalty=age_fem_param[\"k_\"+str(i+1)][\"params\"][\"penalty\"], C=age_fem_param[\"k_\"+str(i+1)][\"params\"][\"C\"], solver='liblinear')\n",
    "    logisticRegr_fem.fit(tfidf_train_fem, y_train_fem)\n",
    "    pred_fem=logisticRegr_fem.predict(tfidf_test_fem)\n",
    "\n",
    "    f1 = metrics.f1_score(y_test_fem, pred_fem, average='macro')\n",
    "    age_fem.append(f1)\n",
    "\n",
    "    X_train_masc = df_train_masc['concat'].apply(clean_text).to_numpy()\n",
    "    X_test_masc = df_test_masc['concat'].apply(clean_text).to_numpy()\n",
    "    y_train_masc = df_train_masc['AgeClass']\n",
    "    y_test_masc = df_test_masc['AgeClass']\n",
    "\n",
    "    tfidfvec_masc = TfidfVectorizer(max_features = 1000, max_df=0.8)\n",
    "    tfidf_train_masc = tfidfvec_masc.fit_transform(X_train_masc)\n",
    "    tfidf_test_masc = tfidfvec_masc.transform(X_test_masc)\n",
    "\n",
    "    logisticRegr_masc = LogisticRegression(random_state=11, penalty=age_masc_param[\"k_\"+str(i+1)][\"params\"][\"penalty\"], C=age_masc_param[\"k_\"+str(i+1)][\"params\"][\"C\"], solver='liblinear')\n",
    "    logisticRegr_masc.fit(tfidf_train_masc, y_train_masc)\n",
    "    pred_masc=logisticRegr_masc.predict(tfidf_test_masc)\n",
    "\n",
    "    f1 = metrics.f1_score(y_test_masc, pred_masc, average='macro')\n",
    "    age_masc.append(f1)\n",
    "\n",
    "    pred_ages_sep = pred_fem.tolist() + pred_masc.tolist()\n",
    "    y_test = y_test_fem.to_list() +  y_test_masc.to_list()\n",
    "    age_sep.append(metrics.f1_score(y_test, pred_ages_sep, average='macro'))\n",
    "\n",
    "print()\n",
    "print(sum(gender)/len(gender))\n",
    "print(sum(age)/len(age))\n",
    "print(sum(age_fem)/len(age_fem))\n",
    "print(sum(age_masc)/len(age_masc))\n",
    "print(sum(age_sep)/len(age_sep))\n",
    "\n",
    "print(\"\\n\\n\\nvetores\")\n",
    "print(age)\n",
    "print(age_sep)"
   ]
  },
  {
   "cell_type": "code",
   "execution_count": 10,
   "metadata": {},
   "outputs": [
    {
     "data": {
      "text/plain": [
       "(0.10266561997685311, 0.06493638940646689)"
      ]
     },
     "execution_count": 10,
     "metadata": {},
     "output_type": "execute_result"
    }
   ],
   "source": [
    "np.std(age), np.std(age_sep)"
   ]
  },
  {
   "cell_type": "code",
   "execution_count": 11,
   "metadata": {},
   "outputs": [
    {
     "data": {
      "text/plain": [
       "WilcoxonResult(statistic=12.0, pvalue=0.947265625)"
      ]
     },
     "execution_count": 11,
     "metadata": {},
     "output_type": "execute_result"
    }
   ],
   "source": [
    "from scipy.stats import wilcoxon\n",
    "wilcoxon(age, age_sep, alternative='greater')"
   ]
  },
  {
   "cell_type": "code",
   "execution_count": 12,
   "metadata": {},
   "outputs": [
    {
     "name": "stdout",
     "output_type": "stream",
     "text": [
      "\n",
      "0.6386639676113361\n",
      "0.4490891653331991\n",
      "0.4202769452769453\n",
      "0.48188831485208306\n",
      "0.47026960833865167\n"
     ]
    }
   ],
   "source": [
    "# literatura\n",
    "gender = []\n",
    "age = []\n",
    "age_fem = []\n",
    "age_masc = []\n",
    "age_sep = []\n",
    "\n",
    "for i in range(10):\n",
    "    df_train = pd.read_csv(r'C:\\Users\\alici\\Documents\\tcc\\v3\\particoes\\brmoral\\k_'+str(i+1)+r'\\train.csv')\n",
    "    df_test = pd.read_csv(r'C:\\Users\\alici\\Documents\\tcc\\v3\\particoes\\brmoral\\k_'+str(i+1)+r'\\test.csv')\n",
    "      \n",
    "    X_train = df_train['concat'].apply(clean_text).to_numpy()\n",
    "    X_test = df_test['concat'].apply(clean_text).to_numpy()\n",
    "\n",
    "    tfidfvec_gender = TfidfVectorizer(max_df=0.8)\n",
    "    tfidf_train_gender = tfidfvec_gender.fit_transform(X_train)\n",
    "    tfidf_test_gender = tfidfvec_gender.transform(X_test)\n",
    "\n",
    "    f1 = metrics.f1_score(y_test_gender, pred_gender, average='macro')\n",
    "    gender.append(f1)\n",
    "\n",
    "    y_train_age = df_train['AgeClass']\n",
    "    y_test_age = df_test['AgeClass']\n",
    "\n",
    "    tfidfvec_age = TfidfVectorizer(max_features = 1000, max_df=0.8)\n",
    "    tfidf_train_age = tfidfvec_age.fit_transform(X_train)\n",
    "    tfidf_test_age = tfidfvec_age.transform(X_test)\n",
    "\n",
    "    logisticRegr_age = LogisticRegression(penalty=\"l2\", C=2857.14, solver='liblinear')\n",
    "    logisticRegr_age.fit(tfidf_train_age, y_train_age)\n",
    "    pred_age=logisticRegr_age.predict(tfidf_test_age)\n",
    "\n",
    "    f1 = metrics.f1_score(y_test_age, pred_age, average='macro')\n",
    "    age.append(f1)\n",
    "\n",
    "    df_train_fem = df_train[df_train[\"GenderClass\"]==1]\n",
    "    df_train_masc = df_train[df_train[\"GenderClass\"]==0]\n",
    "\n",
    "    df_test_fem = df_test[df_test[\"GenderClass\"]==1]\n",
    "    df_test_masc = df_test[df_test[\"GenderClass\"]==0]\n",
    "\n",
    "    X_train_fem = df_train_fem['concat'].apply(clean_text).to_numpy()\n",
    "    X_test_fem = df_test_fem['concat'].apply(clean_text).to_numpy()\n",
    "    y_train_fem = df_train_fem['AgeClass']\n",
    "    y_test_fem = df_test_fem['AgeClass']\n",
    "\n",
    "    tfidfvec_fem = TfidfVectorizer(max_features = 1000, max_df=0.8)\n",
    "    tfidf_train_fem = tfidfvec_fem.fit_transform(X_train_fem)\n",
    "    tfidf_test_fem = tfidfvec_fem.transform(X_test_fem)\n",
    "\n",
    "    logisticRegr_fem = LogisticRegression(penalty=\"l2\", C=2857.14, solver='liblinear')\n",
    "    logisticRegr_fem.fit(tfidf_train_fem, y_train_fem)\n",
    "    pred_fem=logisticRegr_fem.predict(tfidf_test_fem)\n",
    "\n",
    "    f1 = metrics.f1_score(y_test_fem, pred_fem, average='macro')\n",
    "    age_fem.append(f1)\n",
    "\n",
    "    X_train_masc = df_train_masc['concat'].apply(clean_text).to_numpy()\n",
    "    X_test_masc = df_test_masc['concat'].apply(clean_text).to_numpy()\n",
    "    y_train_masc = df_train_masc['AgeClass']\n",
    "    y_test_masc = df_test_masc['AgeClass']\n",
    "\n",
    "    tfidfvec_masc = TfidfVectorizer(max_features = 1000, max_df=0.8)\n",
    "    tfidf_train_masc = tfidfvec_masc.fit_transform(X_train_masc)\n",
    "    tfidf_test_masc = tfidfvec_masc.transform(X_test_masc)\n",
    "\n",
    "    logisticRegr_masc = LogisticRegression(penalty=\"l2\", C=2857.14, solver='liblinear')\n",
    "    logisticRegr_masc.fit(tfidf_train_masc, y_train_masc)\n",
    "    pred_masc=logisticRegr_masc.predict(tfidf_test_masc)\n",
    "\n",
    "    f1 = metrics.f1_score(y_test_masc, pred_masc, average='macro')\n",
    "    age_masc.append(f1)\n",
    "\n",
    "    pred_ages_sep = pred_fem.tolist() + pred_masc.tolist()\n",
    "    y_test = y_test_fem.to_list() +  y_test_masc.to_list()\n",
    "    age_sep.append(metrics.f1_score(y_test, pred_ages_sep, average='macro'))\n",
    "\n",
    "print()\n",
    "print(sum(gender)/len(gender))\n",
    "print(sum(age)/len(age))\n",
    "print(sum(age_fem)/len(age_fem))\n",
    "print(sum(age_masc)/len(age_masc))\n",
    "print(sum(age_sep)/len(age_sep))"
   ]
  },
  {
   "cell_type": "code",
   "execution_count": 13,
   "metadata": {},
   "outputs": [
    {
     "data": {
      "text/plain": [
       "(0.03553859749632961, 0.06220541154228602)"
      ]
     },
     "execution_count": 13,
     "metadata": {},
     "output_type": "execute_result"
    }
   ],
   "source": [
    "np.std(age), np.std(age_sep)"
   ]
  },
  {
   "cell_type": "code",
   "execution_count": 14,
   "metadata": {},
   "outputs": [
    {
     "data": {
      "text/plain": [
       "WilcoxonResult(statistic=18.0, pvalue=0.8388671875)"
      ]
     },
     "execution_count": 14,
     "metadata": {},
     "output_type": "execute_result"
    }
   ],
   "source": [
    "from scipy.stats import wilcoxon\n",
    "wilcoxon(age, age_sep, alternative='greater')"
   ]
  }
 ],
 "metadata": {
  "kernelspec": {
   "display_name": "Python 3.9.6 64-bit",
   "language": "python",
   "name": "python3"
  },
  "language_info": {
   "codemirror_mode": {
    "name": "ipython",
    "version": 3
   },
   "file_extension": ".py",
   "mimetype": "text/x-python",
   "name": "python",
   "nbconvert_exporter": "python",
   "pygments_lexer": "ipython3",
   "version": "3.9.6"
  },
  "orig_nbformat": 4,
  "vscode": {
   "interpreter": {
    "hash": "ac26e9ee9434047e2b6179ca7c094dd6d7a5c4307efa62cbdc343ee78cec5e23"
   }
  }
 },
 "nbformat": 4,
 "nbformat_minor": 2
}
